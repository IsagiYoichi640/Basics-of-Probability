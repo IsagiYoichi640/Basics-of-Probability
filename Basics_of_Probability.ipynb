{
  "nbformat": 4,
  "nbformat_minor": 0,
  "metadata": {
    "colab": {
      "provenance": [],
      "authorship_tag": "ABX9TyNCh2a5/FznjerJr2frk/E0",
      "include_colab_link": true
    },
    "kernelspec": {
      "name": "python3",
      "display_name": "Python 3"
    },
    "language_info": {
      "name": "python"
    }
  },
  "cells": [
    {
      "cell_type": "markdown",
      "metadata": {
        "id": "view-in-github",
        "colab_type": "text"
      },
      "source": [
        "<a href=\"https://colab.research.google.com/github/IsagiYoichi640/Basics-of-Probability/blob/main/Basics_of_Probability.ipynb\" target=\"_parent\"><img src=\"https://colab.research.google.com/assets/colab-badge.svg\" alt=\"Open In Colab\"/></a>"
      ]
    },
    {
      "cell_type": "code",
      "source": [
        "import random\n",
        "def random_ball():\n",
        "  balls=['Blue','Red','Green']\n",
        "  result=random.choice(balls)\n",
        "  pro=balls.count('Red')/len(balls)\n",
        "  print(\"Probability:\",pro)\n",
        "res=random_ball()\n",
        "print(res)"
      ],
      "metadata": {
        "colab": {
          "base_uri": "https://localhost:8080/"
        },
        "id": "I3jv3PPsSMQN",
        "outputId": "4f4ba454-1a1f-4e25-efa0-f88fa51dde49"
      },
      "execution_count": 9,
      "outputs": [
        {
          "output_type": "stream",
          "name": "stdout",
          "text": [
            "Probability: 0.3333333333333333\n",
            "None\n"
          ]
        }
      ]
    }
  ]
}